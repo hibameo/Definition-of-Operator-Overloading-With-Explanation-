{
  "nbformat": 4,
  "nbformat_minor": 0,
  "metadata": {
    "colab": {
      "provenance": [],
      "authorship_tag": "ABX9TyNMcs/30jEWNl4D4SJtzqRb",
      "include_colab_link": true
    },
    "kernelspec": {
      "name": "python3",
      "display_name": "Python 3"
    },
    "language_info": {
      "name": "python"
    }
  },
  "cells": [
    {
      "cell_type": "markdown",
      "metadata": {
        "id": "view-in-github",
        "colab_type": "text"
      },
      "source": [
        "<a href=\"https://colab.research.google.com/github/hibameo/Definition-of-Operator-Overloading-With-Explanation-/blob/main/Definition_of_Operator_Overloading_(With_Explanation).ipynb\" target=\"_parent\"><img src=\"https://colab.research.google.com/assets/colab-badge.svg\" alt=\"Open In Colab\"/></a>"
      ]
    },
    {
      "cell_type": "markdown",
      "source": [
        "Operator overloading ko samajhne ke liye sabse pehle ye samajhna zaroori hai ke Python me jo built-in operators hote hain (+, -, *, /, == etc.), unka ek default behavior hota hai. Lekin hum chahain to in operators ka apni custom objects ke liye behavior change kar sakte hain. Isko operator overloading kehte hain."
      ],
      "metadata": {
        "id": "yCAJCFrxzDCt"
      }
    },
    {
      "cell_type": "markdown",
      "source": [
        "Simple Example:\n",
        "Jab hum + ka use numbers ke saath karte hain:"
      ],
      "metadata": {
        "id": "aF3MixC5zHLJ"
      }
    },
    {
      "cell_type": "code",
      "source": [
        "print(5 + 3)  # Output: 8\n"
      ],
      "metadata": {
        "colab": {
          "base_uri": "https://localhost:8080/"
        },
        "id": "B0myJSY_zKwy",
        "outputId": "c7e47c09-9ea2-443e-cf3c-7210d9b6eb30"
      },
      "execution_count": 1,
      "outputs": [
        {
          "output_type": "stream",
          "name": "stdout",
          "text": [
            "8\n"
          ]
        }
      ]
    },
    {
      "cell_type": "markdown",
      "source": [
        "Jab hum + ka use strings ke saath karte hain:"
      ],
      "metadata": {
        "id": "Ky85yYhFzPSM"
      }
    },
    {
      "cell_type": "code",
      "source": [
        "print(\"Hello\" + \"World\")  # Output: HelloWorld\n"
      ],
      "metadata": {
        "colab": {
          "base_uri": "https://localhost:8080/"
        },
        "id": "_cRlQZyjzRpy",
        "outputId": "1dd6f049-5a4e-4895-f528-4d4c764fed8d"
      },
      "execution_count": 2,
      "outputs": [
        {
          "output_type": "stream",
          "name": "stdout",
          "text": [
            "HelloWorld\n"
          ]
        }
      ]
    },
    {
      "cell_type": "markdown",
      "source": [
        "Yahan Python khud decide karta hai ke + numbers ke liye addition karega aur strings ke liye concatenation.\n",
        "\n",
        "Lekin agar hum ek custom object banayein, jaise ek Warrior class, to + ka use kaise hoga?\n",
        "Python ko nahi pata ke do warriors ko add karne ka matlab kya hai. Is wajah se hume operator overloading ka use karna padega."
      ],
      "metadata": {
        "id": "0MaoC8NYzWAb"
      }
    },
    {
      "cell_type": "markdown",
      "source": [
        "Custom Example: Warrior Strength"
      ],
      "metadata": {
        "id": "A5xyYgYFzYwn"
      }
    },
    {
      "cell_type": "code",
      "source": [
        "class Warrior:\n",
        "    def __init__(self, strength):\n",
        "        self.strength = strength\n",
        "\n",
        "    def __add__(self, other):\n",
        "        return Warrior(self.strength + other.strength)  # Strength add karna\n",
        "\n",
        "    def __str__(self):\n",
        "        return f\"Warrior with strength {self.strength}\"\n",
        "\n",
        "w1 = Warrior(50)\n",
        "w2 = Warrior(70)\n",
        "\n",
        "w3 = w1 + w2  # Yahan + ka custom use ho raha hai\n",
        "print(w3)  # Output: Warrior with strength 120\n"
      ],
      "metadata": {
        "colab": {
          "base_uri": "https://localhost:8080/"
        },
        "id": "52VGBlIMzam7",
        "outputId": "1b60761d-0d59-46e0-aec1-ffa9e4ad6430"
      },
      "execution_count": 3,
      "outputs": [
        {
          "output_type": "stream",
          "name": "stdout",
          "text": [
            "Warrior with strength 120\n"
          ]
        }
      ]
    },
    {
      "cell_type": "markdown",
      "source": [
        "Yahan + ka default behavior numbers ka add karna hota hai, lekin humne uska behavior Warrior objects ke liye redefine kar diya.\n",
        "\n"
      ],
      "metadata": {
        "id": "iUh6fb8dzfG6"
      }
    },
    {
      "cell_type": "markdown",
      "source": [
        "Real-Life Example: TV Remote Analogy\n",
        "Ek remote ka volume up button TV mode me awaz barhata hai.\n",
        "Lekin Bluetooth mode me wahi button next song play karta hai.\n",
        "\n",
        "Matlab button wahi hai, lekin uska behavior change ho sakta hai depending on the mode.\n",
        "Isi tarah, Python me operators ka behavior alag objects ke liye customize kiya ja sakta hai.\n",
        "\n"
      ],
      "metadata": {
        "id": "ltmNKAXozkmr"
      }
    },
    {
      "cell_type": "markdown",
      "source": [
        "Conclusion:\n",
        "\n",
        "Operator overloading ka faida ye hai ke hum apne objects ke liye built-in operators ka use readable aur intuitive tarike se kar sakte hain"
      ],
      "metadata": {
        "id": "mIpofGvvzrTQ"
      }
    }
  ]
}